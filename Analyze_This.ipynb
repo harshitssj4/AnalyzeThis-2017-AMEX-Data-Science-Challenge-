{
 "cells": [
  {
   "cell_type": "markdown",
   "metadata": {},
   "source": [
    "## Importing Libraries"
   ]
  },
  {
   "cell_type": "code",
   "execution_count": 1,
   "metadata": {
    "collapsed": true
   },
   "outputs": [],
   "source": [
    "import pandas as pd\n",
    "import numpy as np\n",
    "import sklearn\n",
    "import matplotlib as mpl\n",
    "import matplotlib.pyplot as plt\n",
    "import seaborn as sns\n",
    "import pylab"
   ]
  },
  {
   "cell_type": "code",
   "execution_count": 2,
   "metadata": {
    "collapsed": true
   },
   "outputs": [],
   "source": [
    "%matplotlib inline\n",
    "mpl.style.use( 'ggplot' )\n",
    "sns.set_style( 'white' )\n",
    "pylab.rcParams[ 'figure.figsize' ] = 8 , 6"
   ]
  },
  {
   "cell_type": "code",
   "execution_count": 3,
   "metadata": {
    "collapsed": true
   },
   "outputs": [],
   "source": [
    "import warnings\n",
    "warnings.filterwarnings('ignore')"
   ]
  },
  {
   "cell_type": "code",
   "execution_count": 4,
   "metadata": {
    "collapsed": true
   },
   "outputs": [],
   "source": [
    "from sklearn.ensemble import RandomForestRegressor\n",
    "from sklearn.preprocessing import StandardScaler\n",
    "from sklearn.decomposition import PCA\n",
    "from sklearn.cross_validation import StratifiedShuffleSplit\n",
    "from xgboost.sklearn import XGBClassifier\n",
    "from sklearn.ensemble import ExtraTreesClassifier\n",
    "from sklearn.ensemble import RandomForestClassifier\n",
    "from sklearn.grid_search import GridSearchCV\n",
    "from sklearn.cross_validation import cross_val_score"
   ]
  },
  {
   "cell_type": "markdown",
   "metadata": {},
   "source": [
    "## Reading Data"
   ]
  },
  {
   "cell_type": "code",
   "execution_count": 5,
   "metadata": {
    "collapsed": true
   },
   "outputs": [],
   "source": [
    "train=pd.read_csv('Training_Dataset.csv')\n",
    "test=pd.read_csv('Leaderboard_Dataset.csv')\n",
    "final= pd.read_csv('Final_Dataset.csv')\n",
    "full_data=[train,test,final]"
   ]
  },
  {
   "cell_type": "code",
   "execution_count": 6,
   "metadata": {
    "collapsed": true
   },
   "outputs": [],
   "source": [
    "dictionary=pd.read_csv('Data_Dictionary .csv')"
   ]
  },
  {
   "cell_type": "code",
   "execution_count": 7,
   "metadata": {},
   "outputs": [
    {
     "name": "stdout",
     "output_type": "stream",
     "text": [
      "(40000, 52)\n",
      "(10000, 46)\n"
     ]
    }
   ],
   "source": [
    "print train.shape\n",
    "print test.shape"
   ]
  },
  {
   "cell_type": "markdown",
   "metadata": {},
   "source": [
    "__Variable Analysis__"
   ]
  },
  {
   "cell_type": "code",
   "execution_count": 8,
   "metadata": {},
   "outputs": [
    {
     "name": "stdout",
     "output_type": "stream",
     "text": [
      "   Variable                                        Description\n",
      "0    cm_key                         Unique customer identifier\n",
      "1     mvar1                                  Card product type\n",
      "2     mvar2                                        Family Size\n",
      "3     mvar3  Customer spending capacity. 0 = No data available\n",
      "4     mvar4  Number of total cards (including estimated ext...\n",
      "5     mvar5      Number of months the Account has been set up.\n",
      "6     mvar6   Total club memberhship fees in the last one year\n",
      "7     mvar7     Internal score for affinity towards high spend\n",
      "8     mvar8                          Internal influencer score\n",
      "9     mvar9                      Income. 0 = No data available\n",
      "10   mvar10                            Platinum card indicator\n",
      "11   mvar11  Internal probability score for affinity toward...\n",
      "12   mvar12  Industry code in which the customer has spent ...\n",
      "13   mvar13  Number of times the customer has made payments...\n",
      "14   mvar14                         Number of club memberships\n",
      "15   mvar15                    Number of air miles memberships\n",
      "16   mvar16             Electronics related spend in quarter 1\n",
      "17   mvar17             Electronics related spend in quarter 2\n",
      "18   mvar18             Electronics related spend in quarter 3\n",
      "19   mvar19             Electronics related spend in quarter 4\n",
      "20   mvar20                  Travel related spend in quarter 1\n",
      "21   mvar21                  Travel related spend in quarter 2\n",
      "22   mvar22                  Travel related spend in quarter 3\n",
      "23   mvar23                  Travel related spend in quarter 4\n",
      "24   mvar24                       Household spend in quarter 1\n",
      "25   mvar25                       Household spend in quarter 2\n",
      "26   mvar26                       Household spend in quarter 3\n",
      "27   mvar27                       Household spend in quarter 4\n",
      "28   mvar28                     Car related spend in quarter 1\n",
      "29   mvar29                     Car related spend in quarter 2\n",
      "30   mvar30                     Car related spend in quarter 3\n",
      "31   mvar31                     Car related spend in quarter 4\n",
      "32   mvar32                          Retail spend in quarter 1\n",
      "33   mvar33                          Retail spend in quarter 2\n",
      "34   mvar34                          Retail spend in quarter 3\n",
      "35   mvar35                          Retail spend in quarter 4\n",
      "36   mvar36                           Total Spend in quarter 1\n",
      "37   mvar37                           Total Spend in quarter 2\n",
      "38   mvar38                           Total Spend in quarter 3\n",
      "39   mvar39                           Total Spend in quarter 4\n",
      "40   mvar40  Number of times the customer was extended supp...\n",
      "41   mvar41  Number of times the customer was extended elit...\n",
      "42   mvar42  Number of times the customer was extended cred...\n",
      "43   mvar43  Number of times the customer accepted supp off...\n",
      "44   mvar44  Number of times the customer accepted elite ca...\n",
      "45   mvar45  Number of times the customer accepted credit c...\n",
      "46   mvar46         Indicator for extension of Supp card offer\n",
      "47   mvar47        Indicator for extension of Elite card offer\n",
      "48   mvar48       Indicator for extension of Credit card offer\n",
      "49   mvar49        Indicator for acceptance of Supp card offer\n",
      "50   mvar50       Indicator for acceptance of Elite card offer\n",
      "51   mvar51      Indicator for acceptance of Credit card offer\n"
     ]
    }
   ],
   "source": [
    "print dictionary"
   ]
  },
  {
   "cell_type": "code",
   "execution_count": 9,
   "metadata": {},
   "outputs": [
    {
     "data": {
      "text/html": [
       "<div>\n",
       "<style>\n",
       "    .dataframe thead tr:only-child th {\n",
       "        text-align: right;\n",
       "    }\n",
       "\n",
       "    .dataframe thead th {\n",
       "        text-align: left;\n",
       "    }\n",
       "\n",
       "    .dataframe tbody tr th {\n",
       "        vertical-align: top;\n",
       "    }\n",
       "</style>\n",
       "<table border=\"1\" class=\"dataframe\">\n",
       "  <thead>\n",
       "    <tr style=\"text-align: right;\">\n",
       "      <th></th>\n",
       "      <th>variable</th>\n",
       "      <th>dtype</th>\n",
       "      <th>unique</th>\n",
       "      <th>null_values</th>\n",
       "    </tr>\n",
       "  </thead>\n",
       "  <tbody>\n",
       "    <tr>\n",
       "      <th>0</th>\n",
       "      <td>cm_key</td>\n",
       "      <td>int64</td>\n",
       "      <td>[1, 2, 3, 4, 5, 6, 7, 8, 9, 10, 11, 12, 13, 14...</td>\n",
       "      <td>0</td>\n",
       "    </tr>\n",
       "    <tr>\n",
       "      <th>0</th>\n",
       "      <td>mvar1</td>\n",
       "      <td>object</td>\n",
       "      <td>[Charge      ]</td>\n",
       "      <td>0</td>\n",
       "    </tr>\n",
       "    <tr>\n",
       "      <th>0</th>\n",
       "      <td>mvar2</td>\n",
       "      <td>int64</td>\n",
       "      <td>[0, 2, 5, 1, 4, 3, 6, 8, 9, 10, 11, 7]</td>\n",
       "      <td>0</td>\n",
       "    </tr>\n",
       "    <tr>\n",
       "      <th>0</th>\n",
       "      <td>mvar3</td>\n",
       "      <td>int64</td>\n",
       "      <td>[106920, 0, 399168, 267300, 213840, 25126, 149...</td>\n",
       "      <td>0</td>\n",
       "    </tr>\n",
       "    <tr>\n",
       "      <th>0</th>\n",
       "      <td>mvar4</td>\n",
       "      <td>int64</td>\n",
       "      <td>[4, 6, 1, 3, 0, 5, 2, 8, 7, 12, 9, 10, 11]</td>\n",
       "      <td>0</td>\n",
       "    </tr>\n",
       "    <tr>\n",
       "      <th>0</th>\n",
       "      <td>mvar5</td>\n",
       "      <td>int64</td>\n",
       "      <td>[18, 19, 35, 274, 1, 127, 320, 2, 129, 131, 93...</td>\n",
       "      <td>0</td>\n",
       "    </tr>\n",
       "    <tr>\n",
       "      <th>0</th>\n",
       "      <td>mvar6</td>\n",
       "      <td>int64</td>\n",
       "      <td>[970, 1030, 327, 1258, 0, 381, 490, 981, 207, ...</td>\n",
       "      <td>0</td>\n",
       "    </tr>\n",
       "    <tr>\n",
       "      <th>0</th>\n",
       "      <td>mvar7</td>\n",
       "      <td>float64</td>\n",
       "      <td>[0.7969, 0.0678, 0.7551, 2.3238, 0.1431, 0.104...</td>\n",
       "      <td>0</td>\n",
       "    </tr>\n",
       "    <tr>\n",
       "      <th>0</th>\n",
       "      <td>mvar8</td>\n",
       "      <td>float64</td>\n",
       "      <td>[0.1831, 0.0, 0.2986, 0.5297, 0.4817, 0.2682, ...</td>\n",
       "      <td>0</td>\n",
       "    </tr>\n",
       "    <tr>\n",
       "      <th>0</th>\n",
       "      <td>mvar9</td>\n",
       "      <td>int64</td>\n",
       "      <td>[337236, 2918974, 498656, 2480074, 48246, 2259...</td>\n",
       "      <td>0</td>\n",
       "    </tr>\n",
       "    <tr>\n",
       "      <th>0</th>\n",
       "      <td>mvar10</td>\n",
       "      <td>int64</td>\n",
       "      <td>[1, 0]</td>\n",
       "      <td>0</td>\n",
       "    </tr>\n",
       "    <tr>\n",
       "      <th>0</th>\n",
       "      <td>mvar11</td>\n",
       "      <td>float64</td>\n",
       "      <td>[6.0899, 4.2016, 3.376, 4.1082, 0.0, 3.1081, 1...</td>\n",
       "      <td>0</td>\n",
       "    </tr>\n",
       "    <tr>\n",
       "      <th>0</th>\n",
       "      <td>mvar12</td>\n",
       "      <td>object</td>\n",
       "      <td>[Office supplies    , Unknown            , Mis...</td>\n",
       "      <td>0</td>\n",
       "    </tr>\n",
       "    <tr>\n",
       "      <th>0</th>\n",
       "      <td>mvar13</td>\n",
       "      <td>int64</td>\n",
       "      <td>[12, 11, 6, 13, 10, 15, 14, 16, 7, 18, 17, 8, ...</td>\n",
       "      <td>0</td>\n",
       "    </tr>\n",
       "    <tr>\n",
       "      <th>0</th>\n",
       "      <td>mvar14</td>\n",
       "      <td>int64</td>\n",
       "      <td>[1, 2, 3, 0, 7, 5, 4, 6, 8, 9]</td>\n",
       "      <td>0</td>\n",
       "    </tr>\n",
       "    <tr>\n",
       "      <th>0</th>\n",
       "      <td>mvar15</td>\n",
       "      <td>int64</td>\n",
       "      <td>[0, 1, 4, 3, 2, 5]</td>\n",
       "      <td>0</td>\n",
       "    </tr>\n",
       "    <tr>\n",
       "      <th>0</th>\n",
       "      <td>mvar16</td>\n",
       "      <td>float64</td>\n",
       "      <td>[0.0, 52.45, 1079.04, 534.69, 75.46, 1417.21, ...</td>\n",
       "      <td>0</td>\n",
       "    </tr>\n",
       "    <tr>\n",
       "      <th>0</th>\n",
       "      <td>mvar17</td>\n",
       "      <td>float64</td>\n",
       "      <td>[0.0, 17.2, 175.88, 2344.77, 23.34, 125.6, 44....</td>\n",
       "      <td>0</td>\n",
       "    </tr>\n",
       "    <tr>\n",
       "      <th>0</th>\n",
       "      <td>mvar18</td>\n",
       "      <td>float64</td>\n",
       "      <td>[0.0, 17.2, 178.06, 1214.03, 92.52, 1.25, 263....</td>\n",
       "      <td>0</td>\n",
       "    </tr>\n",
       "    <tr>\n",
       "      <th>0</th>\n",
       "      <td>mvar19</td>\n",
       "      <td>float64</td>\n",
       "      <td>[0.0, 34.43, 175.38, 125.73, 81.06, 61.46, 356...</td>\n",
       "      <td>0</td>\n",
       "    </tr>\n",
       "    <tr>\n",
       "      <th>0</th>\n",
       "      <td>mvar20</td>\n",
       "      <td>float64</td>\n",
       "      <td>[1169.11, 65.89, 100.68, 4064.37, 68434.31, 42...</td>\n",
       "      <td>0</td>\n",
       "    </tr>\n",
       "    <tr>\n",
       "      <th>0</th>\n",
       "      <td>mvar21</td>\n",
       "      <td>float64</td>\n",
       "      <td>[229.16, 0.0, 337.45, 8506.05, 33390.75, 712.1...</td>\n",
       "      <td>0</td>\n",
       "    </tr>\n",
       "    <tr>\n",
       "      <th>0</th>\n",
       "      <td>mvar22</td>\n",
       "      <td>float64</td>\n",
       "      <td>[249.9, 0.0, 196.14, 1582.73, 63982.07, 778.38...</td>\n",
       "      <td>0</td>\n",
       "    </tr>\n",
       "    <tr>\n",
       "      <th>0</th>\n",
       "      <td>mvar23</td>\n",
       "      <td>float64</td>\n",
       "      <td>[580.6, 0.0, 1419.58, 33179.7, 849.14, 763.78,...</td>\n",
       "      <td>0</td>\n",
       "    </tr>\n",
       "    <tr>\n",
       "      <th>0</th>\n",
       "      <td>mvar24</td>\n",
       "      <td>float64</td>\n",
       "      <td>[485.4, 0.0, 221.13, 274.85, 41.94, 10.05, 88....</td>\n",
       "      <td>0</td>\n",
       "    </tr>\n",
       "    <tr>\n",
       "      <th>0</th>\n",
       "      <td>mvar25</td>\n",
       "      <td>float64</td>\n",
       "      <td>[17.86, 0.0, 199.21, 24.89, 575.56, 344.13, 40...</td>\n",
       "      <td>0</td>\n",
       "    </tr>\n",
       "    <tr>\n",
       "      <th>0</th>\n",
       "      <td>mvar26</td>\n",
       "      <td>float64</td>\n",
       "      <td>[497.8, 0.0, 154.9, 256.99, 600.39, 351.15, 43...</td>\n",
       "      <td>0</td>\n",
       "    </tr>\n",
       "    <tr>\n",
       "      <th>0</th>\n",
       "      <td>mvar27</td>\n",
       "      <td>float64</td>\n",
       "      <td>[5.46, 0.0, 265.44, 42.75, 17.11, 3.03, 445.87...</td>\n",
       "      <td>0</td>\n",
       "    </tr>\n",
       "    <tr>\n",
       "      <th>0</th>\n",
       "      <td>mvar28</td>\n",
       "      <td>float64</td>\n",
       "      <td>[0.0, 250.71, 4.6, 26.16, 2804.9, 401.34, 107....</td>\n",
       "      <td>0</td>\n",
       "    </tr>\n",
       "    <tr>\n",
       "      <th>0</th>\n",
       "      <td>mvar29</td>\n",
       "      <td>float64</td>\n",
       "      <td>[0.0, 213.72, 7.44, 2053.76, 307.76, 66.12, 27...</td>\n",
       "      <td>0</td>\n",
       "    </tr>\n",
       "    <tr>\n",
       "      <th>0</th>\n",
       "      <td>mvar30</td>\n",
       "      <td>float64</td>\n",
       "      <td>[0.0, 424.95, 349.94, 501.19, 32.59, 156.09, 1...</td>\n",
       "      <td>0</td>\n",
       "    </tr>\n",
       "    <tr>\n",
       "      <th>0</th>\n",
       "      <td>mvar31</td>\n",
       "      <td>float64</td>\n",
       "      <td>[0.0, 418.23, 3.74, 316.8, 897.54, 15.93, 1979...</td>\n",
       "      <td>0</td>\n",
       "    </tr>\n",
       "    <tr>\n",
       "      <th>0</th>\n",
       "      <td>mvar32</td>\n",
       "      <td>float64</td>\n",
       "      <td>[0.0, 22412.13, 34018.48, 1962.05, 14375.01, 2...</td>\n",
       "      <td>0</td>\n",
       "    </tr>\n",
       "    <tr>\n",
       "      <th>0</th>\n",
       "      <td>mvar33</td>\n",
       "      <td>float64</td>\n",
       "      <td>[0.0, 44853.1, 35803.02, 1452.73, 10067.28, 16...</td>\n",
       "      <td>0</td>\n",
       "    </tr>\n",
       "    <tr>\n",
       "      <th>0</th>\n",
       "      <td>mvar34</td>\n",
       "      <td>float64</td>\n",
       "      <td>[0.0, 22457.27, 68928.62, 1564.28, 4378.17, 22...</td>\n",
       "      <td>0</td>\n",
       "    </tr>\n",
       "    <tr>\n",
       "      <th>0</th>\n",
       "      <td>mvar35</td>\n",
       "      <td>float64</td>\n",
       "      <td>[0.0, 25472.42, 23952.0, 210.31, 10442.87, 231...</td>\n",
       "      <td>0</td>\n",
       "    </tr>\n",
       "    <tr>\n",
       "      <th>0</th>\n",
       "      <td>mvar36</td>\n",
       "      <td>float64</td>\n",
       "      <td>[208276.89, 10324.13, 55201.56, 31921.09, 1258...</td>\n",
       "      <td>0</td>\n",
       "    </tr>\n",
       "    <tr>\n",
       "      <th>0</th>\n",
       "      <td>mvar37</td>\n",
       "      <td>float64</td>\n",
       "      <td>[129504.66, 3666.1, 85357.68, 35437.46, 91078....</td>\n",
       "      <td>0</td>\n",
       "    </tr>\n",
       "    <tr>\n",
       "      <th>0</th>\n",
       "      <td>mvar38</td>\n",
       "      <td>float64</td>\n",
       "      <td>[173841.11, 21049.55, 38022.78, 23934.82, 1128...</td>\n",
       "      <td>0</td>\n",
       "    </tr>\n",
       "    <tr>\n",
       "      <th>0</th>\n",
       "      <td>mvar39</td>\n",
       "      <td>float64</td>\n",
       "      <td>[131011.34, 9146.66, 29979.13, 33299.45, 53185...</td>\n",
       "      <td>0</td>\n",
       "    </tr>\n",
       "    <tr>\n",
       "      <th>0</th>\n",
       "      <td>mvar40</td>\n",
       "      <td>int64</td>\n",
       "      <td>[0, 1, 2, 3, 4, 5]</td>\n",
       "      <td>0</td>\n",
       "    </tr>\n",
       "    <tr>\n",
       "      <th>0</th>\n",
       "      <td>mvar41</td>\n",
       "      <td>int64</td>\n",
       "      <td>[0, 1, 2, 3, 4]</td>\n",
       "      <td>0</td>\n",
       "    </tr>\n",
       "    <tr>\n",
       "      <th>0</th>\n",
       "      <td>mvar42</td>\n",
       "      <td>int64</td>\n",
       "      <td>[0, 1, 2, 3]</td>\n",
       "      <td>0</td>\n",
       "    </tr>\n",
       "    <tr>\n",
       "      <th>0</th>\n",
       "      <td>mvar43</td>\n",
       "      <td>int64</td>\n",
       "      <td>[0, 1, 2, 3, 4, 5]</td>\n",
       "      <td>0</td>\n",
       "    </tr>\n",
       "    <tr>\n",
       "      <th>0</th>\n",
       "      <td>mvar44</td>\n",
       "      <td>int64</td>\n",
       "      <td>[0, 2, 1, 3, 4]</td>\n",
       "      <td>0</td>\n",
       "    </tr>\n",
       "    <tr>\n",
       "      <th>0</th>\n",
       "      <td>mvar45</td>\n",
       "      <td>int64</td>\n",
       "      <td>[0, 1]</td>\n",
       "      <td>0</td>\n",
       "    </tr>\n",
       "    <tr>\n",
       "      <th>0</th>\n",
       "      <td>mvar46</td>\n",
       "      <td>int64</td>\n",
       "      <td>[0, 1]</td>\n",
       "      <td>0</td>\n",
       "    </tr>\n",
       "    <tr>\n",
       "      <th>0</th>\n",
       "      <td>mvar47</td>\n",
       "      <td>int64</td>\n",
       "      <td>[0, 1]</td>\n",
       "      <td>0</td>\n",
       "    </tr>\n",
       "    <tr>\n",
       "      <th>0</th>\n",
       "      <td>mvar48</td>\n",
       "      <td>int64</td>\n",
       "      <td>[1, 0]</td>\n",
       "      <td>0</td>\n",
       "    </tr>\n",
       "    <tr>\n",
       "      <th>0</th>\n",
       "      <td>mvar49</td>\n",
       "      <td>int64</td>\n",
       "      <td>[0, 1]</td>\n",
       "      <td>0</td>\n",
       "    </tr>\n",
       "    <tr>\n",
       "      <th>0</th>\n",
       "      <td>mvar50</td>\n",
       "      <td>int64</td>\n",
       "      <td>[0, 1]</td>\n",
       "      <td>0</td>\n",
       "    </tr>\n",
       "    <tr>\n",
       "      <th>0</th>\n",
       "      <td>mvar51</td>\n",
       "      <td>int64</td>\n",
       "      <td>[0, 1]</td>\n",
       "      <td>0</td>\n",
       "    </tr>\n",
       "  </tbody>\n",
       "</table>\n",
       "</div>"
      ],
      "text/plain": [
       "  variable    dtype                                             unique  \\\n",
       "0   cm_key    int64  [1, 2, 3, 4, 5, 6, 7, 8, 9, 10, 11, 12, 13, 14...   \n",
       "0    mvar1   object                                     [Charge      ]   \n",
       "0    mvar2    int64             [0, 2, 5, 1, 4, 3, 6, 8, 9, 10, 11, 7]   \n",
       "0    mvar3    int64  [106920, 0, 399168, 267300, 213840, 25126, 149...   \n",
       "0    mvar4    int64         [4, 6, 1, 3, 0, 5, 2, 8, 7, 12, 9, 10, 11]   \n",
       "0    mvar5    int64  [18, 19, 35, 274, 1, 127, 320, 2, 129, 131, 93...   \n",
       "0    mvar6    int64  [970, 1030, 327, 1258, 0, 381, 490, 981, 207, ...   \n",
       "0    mvar7  float64  [0.7969, 0.0678, 0.7551, 2.3238, 0.1431, 0.104...   \n",
       "0    mvar8  float64  [0.1831, 0.0, 0.2986, 0.5297, 0.4817, 0.2682, ...   \n",
       "0    mvar9    int64  [337236, 2918974, 498656, 2480074, 48246, 2259...   \n",
       "0   mvar10    int64                                             [1, 0]   \n",
       "0   mvar11  float64  [6.0899, 4.2016, 3.376, 4.1082, 0.0, 3.1081, 1...   \n",
       "0   mvar12   object  [Office supplies    , Unknown            , Mis...   \n",
       "0   mvar13    int64  [12, 11, 6, 13, 10, 15, 14, 16, 7, 18, 17, 8, ...   \n",
       "0   mvar14    int64                     [1, 2, 3, 0, 7, 5, 4, 6, 8, 9]   \n",
       "0   mvar15    int64                                 [0, 1, 4, 3, 2, 5]   \n",
       "0   mvar16  float64  [0.0, 52.45, 1079.04, 534.69, 75.46, 1417.21, ...   \n",
       "0   mvar17  float64  [0.0, 17.2, 175.88, 2344.77, 23.34, 125.6, 44....   \n",
       "0   mvar18  float64  [0.0, 17.2, 178.06, 1214.03, 92.52, 1.25, 263....   \n",
       "0   mvar19  float64  [0.0, 34.43, 175.38, 125.73, 81.06, 61.46, 356...   \n",
       "0   mvar20  float64  [1169.11, 65.89, 100.68, 4064.37, 68434.31, 42...   \n",
       "0   mvar21  float64  [229.16, 0.0, 337.45, 8506.05, 33390.75, 712.1...   \n",
       "0   mvar22  float64  [249.9, 0.0, 196.14, 1582.73, 63982.07, 778.38...   \n",
       "0   mvar23  float64  [580.6, 0.0, 1419.58, 33179.7, 849.14, 763.78,...   \n",
       "0   mvar24  float64  [485.4, 0.0, 221.13, 274.85, 41.94, 10.05, 88....   \n",
       "0   mvar25  float64  [17.86, 0.0, 199.21, 24.89, 575.56, 344.13, 40...   \n",
       "0   mvar26  float64  [497.8, 0.0, 154.9, 256.99, 600.39, 351.15, 43...   \n",
       "0   mvar27  float64  [5.46, 0.0, 265.44, 42.75, 17.11, 3.03, 445.87...   \n",
       "0   mvar28  float64  [0.0, 250.71, 4.6, 26.16, 2804.9, 401.34, 107....   \n",
       "0   mvar29  float64  [0.0, 213.72, 7.44, 2053.76, 307.76, 66.12, 27...   \n",
       "0   mvar30  float64  [0.0, 424.95, 349.94, 501.19, 32.59, 156.09, 1...   \n",
       "0   mvar31  float64  [0.0, 418.23, 3.74, 316.8, 897.54, 15.93, 1979...   \n",
       "0   mvar32  float64  [0.0, 22412.13, 34018.48, 1962.05, 14375.01, 2...   \n",
       "0   mvar33  float64  [0.0, 44853.1, 35803.02, 1452.73, 10067.28, 16...   \n",
       "0   mvar34  float64  [0.0, 22457.27, 68928.62, 1564.28, 4378.17, 22...   \n",
       "0   mvar35  float64  [0.0, 25472.42, 23952.0, 210.31, 10442.87, 231...   \n",
       "0   mvar36  float64  [208276.89, 10324.13, 55201.56, 31921.09, 1258...   \n",
       "0   mvar37  float64  [129504.66, 3666.1, 85357.68, 35437.46, 91078....   \n",
       "0   mvar38  float64  [173841.11, 21049.55, 38022.78, 23934.82, 1128...   \n",
       "0   mvar39  float64  [131011.34, 9146.66, 29979.13, 33299.45, 53185...   \n",
       "0   mvar40    int64                                 [0, 1, 2, 3, 4, 5]   \n",
       "0   mvar41    int64                                    [0, 1, 2, 3, 4]   \n",
       "0   mvar42    int64                                       [0, 1, 2, 3]   \n",
       "0   mvar43    int64                                 [0, 1, 2, 3, 4, 5]   \n",
       "0   mvar44    int64                                    [0, 2, 1, 3, 4]   \n",
       "0   mvar45    int64                                             [0, 1]   \n",
       "0   mvar46    int64                                             [0, 1]   \n",
       "0   mvar47    int64                                             [0, 1]   \n",
       "0   mvar48    int64                                             [1, 0]   \n",
       "0   mvar49    int64                                             [0, 1]   \n",
       "0   mvar50    int64                                             [0, 1]   \n",
       "0   mvar51    int64                                             [0, 1]   \n",
       "\n",
       "   null_values  \n",
       "0            0  \n",
       "0            0  \n",
       "0            0  \n",
       "0            0  \n",
       "0            0  \n",
       "0            0  \n",
       "0            0  \n",
       "0            0  \n",
       "0            0  \n",
       "0            0  \n",
       "0            0  \n",
       "0            0  \n",
       "0            0  \n",
       "0            0  \n",
       "0            0  \n",
       "0            0  \n",
       "0            0  \n",
       "0            0  \n",
       "0            0  \n",
       "0            0  \n",
       "0            0  \n",
       "0            0  \n",
       "0            0  \n",
       "0            0  \n",
       "0            0  \n",
       "0            0  \n",
       "0            0  \n",
       "0            0  \n",
       "0            0  \n",
       "0            0  \n",
       "0            0  \n",
       "0            0  \n",
       "0            0  \n",
       "0            0  \n",
       "0            0  \n",
       "0            0  \n",
       "0            0  \n",
       "0            0  \n",
       "0            0  \n",
       "0            0  \n",
       "0            0  \n",
       "0            0  \n",
       "0            0  \n",
       "0            0  \n",
       "0            0  \n",
       "0            0  \n",
       "0            0  \n",
       "0            0  \n",
       "0            0  \n",
       "0            0  \n",
       "0            0  \n",
       "0            0  "
      ]
     },
     "execution_count": 9,
     "metadata": {},
     "output_type": "execute_result"
    }
   ],
   "source": [
    "## Forming a DataFrame for exploring each variable\n",
    "df1=pd.DataFrame()\n",
    "for i in train.columns:\n",
    "    A=train[i].dtypes\n",
    "    B=train[i].unique()\n",
    "    C=np.sum(train[i].isnull())\n",
    "    df=pd.DataFrame([[i,A,B,C]],columns=['variable','dtype','unique','null_values'])\n",
    "    df1=pd.concat([df1,df])\n",
    "df1    "
   ]
  },
  {
   "cell_type": "markdown",
   "metadata": {},
   "source": [
    "__'cm_key' is just a unique id for customers, so we won't be using that in our model,<br>\n",
    "'mvar1' does not contribute to the data as it has only one variable, therefore we shall drop it,moreover 'mvar9' and 'mvar3' have null values wherever there values are zero(as mentioned in data dictionary).Apart from that there are no null values.__"
   ]
  },
  {
   "cell_type": "code",
   "execution_count": 10,
   "metadata": {},
   "outputs": [
    {
     "name": "stdout",
     "output_type": "stream",
     "text": [
      "0.040125\n",
      "0.60885\n"
     ]
    }
   ],
   "source": [
    "print np.mean(train.mvar9==0)\n",
    "print np.mean(train.mvar3==0)"
   ]
  },
  {
   "cell_type": "markdown",
   "metadata": {},
   "source": [
    "__More than 50% data is missing for 'mvar3', therefore it is wise to drop this variable__"
   ]
  },
  {
   "cell_type": "code",
   "execution_count": 11,
   "metadata": {
    "collapsed": true
   },
   "outputs": [],
   "source": [
    "for data in full_data:\n",
    "    data.drop(['mvar1','mvar3'],axis=1,inplace=True)"
   ]
  },
  {
   "cell_type": "markdown",
   "metadata": {},
   "source": [
    "__'mvar49','mvar50','mvar51' are target variables, converting them to only one variable 'offer'__"
   ]
  },
  {
   "cell_type": "code",
   "execution_count": 12,
   "metadata": {
    "collapsed": true
   },
   "outputs": [],
   "source": [
    "train['offer']=0\n",
    "train.loc[train.mvar49>0,'offer']=1\n",
    "train.loc[train.mvar50>0,'offer']=2\n",
    "train.loc[train.mvar51>0,'offer']=3"
   ]
  },
  {
   "cell_type": "markdown",
   "metadata": {},
   "source": [
    "__Imputing null values for 'mvar9' using Random Forest Regressor__"
   ]
  },
  {
   "cell_type": "code",
   "execution_count": 13,
   "metadata": {
    "collapsed": true
   },
   "outputs": [],
   "source": [
    "regr=train[train['mvar9']!=0]\n",
    "clf_reg=RandomForestRegressor(n_estimators=500,max_depth=12)\n",
    "clf_reg.fit(regr[['mvar2','mvar5','mvar6','mvar7','mvar8','mvar11']].values, regr['mvar9'].values)\n",
    "df=train[train.mvar9==0]\n",
    "train.loc[train.mvar9==0,'mvar9']=clf_reg.predict(df[['mvar2','mvar5','mvar6','mvar7','mvar8','mvar11']].values)\n",
    "df_t=test[test.mvar9==0]\n",
    "test.loc[test.mvar9==0,'mvar9']=clf_reg.predict(df_t[['mvar2','mvar5','mvar6','mvar7','mvar8','mvar11']].values)"
   ]
  },
  {
   "cell_type": "markdown",
   "metadata": {},
   "source": [
    "## Feature Transformation and Feature Engineering"
   ]
  },
  {
   "cell_type": "markdown",
   "metadata": {},
   "source": [
    "__Transformations and most of the new features created are inferred from visualizations( available in 'Visualizations' notebook)__"
   ]
  },
  {
   "cell_type": "markdown",
   "metadata": {},
   "source": [
    "Transforming skewed continous features by taking log or roots or natural number as seem fit to make it uniform in manner."
   ]
  },
  {
   "cell_type": "code",
   "execution_count": 14,
   "metadata": {
    "collapsed": true
   },
   "outputs": [],
   "source": [
    "train['mvar6']=train['mvar6']**0.4\n",
    "train['mvar7']=train['mvar7']**0.15\n",
    "train['mvar9']=train['mvar9']**0.15\n",
    "train['mvar16']=np.log(train.mvar16+1)\n",
    "train['mvar17']=np.log(train.mvar17+1)\n",
    "train['mvar18']=np.log(train.mvar18+1)\n",
    "train['mvar19']=np.log(train.mvar19+1)\n",
    "train['mvar20']=np.log(train.mvar20+1)\n",
    "train['mvar21']=np.log(train.mvar21+1)\n",
    "train['mvar22']=np.log(train.mvar22+1)\n",
    "train['mvar23']=np.log(train.mvar23+1)\n",
    "train['mvar24']=np.log(train.mvar24+1)\n",
    "train['mvar25']=np.log(train.mvar25+1)\n",
    "train['mvar26']=np.log(train.mvar26+1)\n",
    "train['mvar27']=np.log(train.mvar27+1)\n",
    "train['mvar28']=np.log(train.mvar28+1)\n",
    "train['mvar29']=np.log(train.mvar29+1)\n",
    "train['mvar30']=np.log(train.mvar30+1)\n",
    "train['mvar31']=np.log(train.mvar31+1)\n",
    "train['mvar36']=np.log(train.mvar36+1)\n",
    "train['mvar37']=np.log(train.mvar37+1)\n",
    "train['mvar38']=np.log(train.mvar38+1)\n",
    "train['mvar39']=np.log(train.mvar39+1)"
   ]
  },
  {
   "cell_type": "code",
   "execution_count": 15,
   "metadata": {
    "collapsed": true
   },
   "outputs": [],
   "source": [
    "test['mvar6']=test['mvar6']**0.4\n",
    "test['mvar7']=test['mvar7']**0.15\n",
    "test['mvar9']=test['mvar9']**0.15\n",
    "test['mvar16']=np.log(test.mvar16+1)\n",
    "test['mvar17']=np.log(test.mvar17+1)\n",
    "test['mvar18']=np.log(test.mvar18+1)\n",
    "test['mvar19']=np.log(test.mvar19+1)\n",
    "test['mvar20']=np.log(test.mvar20+1)\n",
    "test['mvar21']=np.log(test.mvar21+1)\n",
    "test['mvar22']=np.log(test.mvar22+1)\n",
    "test['mvar23']=np.log(test.mvar23+1)\n",
    "test['mvar24']=np.log(test.mvar24+1)\n",
    "test['mvar25']=np.log(test.mvar25+1)\n",
    "test['mvar26']=np.log(test.mvar26+1)\n",
    "test['mvar27']=np.log(test.mvar27+1)\n",
    "test['mvar28']=np.log(test.mvar28+1)\n",
    "test['mvar29']=np.log(test.mvar29+1)\n",
    "test['mvar30']=np.log(test.mvar30+1)\n",
    "test['mvar31']=np.log(test.mvar31+1)\n",
    "test['mvar36']=np.log(test.mvar36+1)\n",
    "test['mvar37']=np.log(test.mvar37+1)\n",
    "test['mvar38']=np.log(test.mvar38+1)\n",
    "test['mvar39']=np.log(test.mvar39+1)"
   ]
  },
  {
   "cell_type": "code",
   "execution_count": 16,
   "metadata": {
    "collapsed": true
   },
   "outputs": [],
   "source": [
    "##No. of family members\n",
    "for data in full_data:\n",
    "    data['mvar2']=data['mvar2']+1"
   ]
  },
  {
   "cell_type": "markdown",
   "metadata": {},
   "source": [
    "__As 'mvar12' contains 18 different categories, we first convert it to dummy variables then apply PCA on it to transform it to only one variable. We will be using all of the data i.e. training, test and final_dataset to perform our PCA.__"
   ]
  },
  {
   "cell_type": "code",
   "execution_count": 17,
   "metadata": {
    "collapsed": true
   },
   "outputs": [],
   "source": [
    "pc_1=pd.read_csv('Training_Dataset.csv')\n",
    "pc_2=pd.read_csv('Leaderboard_Dataset.csv')\n",
    "pc_3=pd.read_csv('Final_Dataset.csv')\n",
    "dd_1=pd.DataFrame(pc_1['mvar12'])\n",
    "dd_2=pd.DataFrame(pc_2['mvar12'])\n",
    "dd_3=pd.DataFrame(pc_3['mvar12'])"
   ]
  },
  {
   "cell_type": "code",
   "execution_count": 18,
   "metadata": {
    "collapsed": true
   },
   "outputs": [],
   "source": [
    "pc_11=pd.get_dummies(dd_1)\n",
    "pc_22=pd.get_dummies(dd_2)\n",
    "pc_33=pd.get_dummies(dd_3)"
   ]
  },
  {
   "cell_type": "code",
   "execution_count": 19,
   "metadata": {},
   "outputs": [
    {
     "data": {
      "text/plain": [
       "PCA(copy=True, iterated_power='auto', n_components=1, random_state=None,\n",
       "  svd_solver='auto', tol=0.0, whiten=False)"
      ]
     },
     "execution_count": 19,
     "metadata": {},
     "output_type": "execute_result"
    }
   ],
   "source": [
    "pc=pd.concat([pc_11,pc_22,pc_33])\n",
    "pca=PCA(n_components=1)\n",
    "pca.fit(pc.values)"
   ]
  },
  {
   "cell_type": "code",
   "execution_count": 20,
   "metadata": {
    "collapsed": true
   },
   "outputs": [],
   "source": [
    "train['new_1']=pca.transform(pc_11.values)\n",
    "test['new_1']=pca.transform(pc_22.values)\n",
    "final['new_1']=pca.transform(pc_33.values)"
   ]
  },
  {
   "cell_type": "markdown",
   "metadata": {},
   "source": [
    "__Similarly we'll transform mvar40,mvar41,mvar42 and mvar43,mvar44,mvar45 into one variable each via PCA__"
   ]
  },
  {
   "cell_type": "code",
   "execution_count": 21,
   "metadata": {
    "collapsed": true
   },
   "outputs": [],
   "source": [
    "ee_1=pd.DataFrame(pc_1[['mvar40','mvar41','mvar42']])\n",
    "ee_2=pd.DataFrame(pc_2[['mvar40','mvar41','mvar42']])\n",
    "ee_3=pd.DataFrame(pc_3[['mvar40','mvar41','mvar42']])\n",
    "pce=pd.concat([ee_1,ee_2,ee_3])"
   ]
  },
  {
   "cell_type": "code",
   "execution_count": 22,
   "metadata": {
    "collapsed": true
   },
   "outputs": [],
   "source": [
    "pca_2=PCA(n_components=1)\n",
    "pca_2.fit(pce.values)\n",
    "val=pca_2.transform(pce.values)"
   ]
  },
  {
   "cell_type": "code",
   "execution_count": 23,
   "metadata": {
    "collapsed": true
   },
   "outputs": [],
   "source": [
    "train['new_2']=val[:40000]\n",
    "test['new_2']=val[40000:50000]\n",
    "final['new_2']=val[50000:]"
   ]
  },
  {
   "cell_type": "code",
   "execution_count": 24,
   "metadata": {
    "collapsed": true
   },
   "outputs": [],
   "source": [
    "ff_1=pd.DataFrame(pc_1[['mvar43','mvar44','mvar45']])\n",
    "ff_2=pd.DataFrame(pc_2[['mvar43','mvar44','mvar45']])\n",
    "ff_3=pd.DataFrame(pc_3[['mvar43','mvar44','mvar45']])\n",
    "pcf=pd.concat([ff_1,ff_2,ff_3])"
   ]
  },
  {
   "cell_type": "code",
   "execution_count": 25,
   "metadata": {
    "collapsed": true
   },
   "outputs": [],
   "source": [
    "pca_3=PCA(n_components=1)\n",
    "pca_3.fit(pcf.values)\n",
    "val_1=pca_3.transform(pcf.values)"
   ]
  },
  {
   "cell_type": "code",
   "execution_count": 26,
   "metadata": {
    "collapsed": true
   },
   "outputs": [],
   "source": [
    "train['new_3']=val[:40000]\n",
    "test['new_3']=val[40000:50000]\n",
    "final['new_3']=val[50000:]"
   ]
  },
  {
   "cell_type": "markdown",
   "metadata": {},
   "source": [
    "__If we subtract car related spend(mvar28,mvar29,mvar30,mvar31) from total travel spend(mvar20,mvar21,mvar22,mvar23) we can get an approximate to flight related spend which is usually paid for by using card, so this can be an important new feature__"
   ]
  },
  {
   "cell_type": "code",
   "execution_count": 27,
   "metadata": {
    "collapsed": true
   },
   "outputs": [],
   "source": [
    "for data in full_data:\n",
    "    data['new_4']=np.exp(data['mvar20'])-np.exp(data['mvar28'])\n",
    "    data['new_5']=np.exp(data['mvar21'])-np.exp(data['mvar29'])\n",
    "    data['new_6']=np.exp(data['mvar22'])-np.exp(data['mvar30'])\n",
    "    data['new_7']=np.exp(data['mvar23'])-np.exp(data['mvar31'])"
   ]
  },
  {
   "cell_type": "markdown",
   "metadata": {},
   "source": [
    "__If we subtract quarter-wise total spend from total income we'll get savings which can be an important feature in our analysis__"
   ]
  },
  {
   "cell_type": "code",
   "execution_count": 28,
   "metadata": {
    "collapsed": true
   },
   "outputs": [],
   "source": [
    "for data in full_data:\n",
    "    data['new_8']=((data['mvar9'])**6.66)-np.exp(data['mvar36'])-np.exp(data['mvar37'])-np.exp(data['mvar38'])-np.exp(data['mvar39'])"
   ]
  },
  {
   "cell_type": "markdown",
   "metadata": {},
   "source": [
    "__Some more new features__"
   ]
  },
  {
   "cell_type": "code",
   "execution_count": 29,
   "metadata": {
    "collapsed": true
   },
   "outputs": [],
   "source": [
    "for data in full_data:\n",
    "    data['new_9']=((data['mvar4'])/data['mvar2'])\n",
    "    data['new_9']=np.log(data.new_9+1)"
   ]
  },
  {
   "cell_type": "code",
   "execution_count": 30,
   "metadata": {
    "collapsed": true
   },
   "outputs": [],
   "source": [
    "## Function to convert infinite values to zero\n",
    "def func(x):\n",
    "    if np.isinf(x):\n",
    "        return 0\n",
    "    else:\n",
    "        return x"
   ]
  },
  {
   "cell_type": "code",
   "execution_count": 31,
   "metadata": {
    "collapsed": true
   },
   "outputs": [],
   "source": [
    "for data in full_data:\n",
    "    data['new_10']=(data.mvar14+data.mvar15)/data.mvar13\n",
    "    data['new_10']=data['new_10'].apply(func)\n",
    "    data.loc[data['new_10'].isnull(),'new_10']=0"
   ]
  },
  {
   "cell_type": "code",
   "execution_count": 32,
   "metadata": {},
   "outputs": [
    {
     "data": {
      "text/html": [
       "<div>\n",
       "<style>\n",
       "    .dataframe thead tr:only-child th {\n",
       "        text-align: right;\n",
       "    }\n",
       "\n",
       "    .dataframe thead th {\n",
       "        text-align: left;\n",
       "    }\n",
       "\n",
       "    .dataframe tbody tr th {\n",
       "        vertical-align: top;\n",
       "    }\n",
       "</style>\n",
       "<table border=\"1\" class=\"dataframe\">\n",
       "  <thead>\n",
       "    <tr style=\"text-align: right;\">\n",
       "      <th></th>\n",
       "      <th>cm_key</th>\n",
       "      <th>mvar2</th>\n",
       "      <th>mvar4</th>\n",
       "      <th>mvar5</th>\n",
       "      <th>mvar6</th>\n",
       "      <th>mvar7</th>\n",
       "      <th>mvar8</th>\n",
       "      <th>mvar9</th>\n",
       "      <th>mvar10</th>\n",
       "      <th>mvar11</th>\n",
       "      <th>...</th>\n",
       "      <th>new_1</th>\n",
       "      <th>new_2</th>\n",
       "      <th>new_3</th>\n",
       "      <th>new_4</th>\n",
       "      <th>new_5</th>\n",
       "      <th>new_6</th>\n",
       "      <th>new_7</th>\n",
       "      <th>new_8</th>\n",
       "      <th>new_9</th>\n",
       "      <th>new_10</th>\n",
       "    </tr>\n",
       "  </thead>\n",
       "  <tbody>\n",
       "    <tr>\n",
       "      <th>0</th>\n",
       "      <td>1</td>\n",
       "      <td>1</td>\n",
       "      <td>4</td>\n",
       "      <td>18</td>\n",
       "      <td>15.657005</td>\n",
       "      <td>0.966519</td>\n",
       "      <td>0.1831</td>\n",
       "      <td>6.748233</td>\n",
       "      <td>1</td>\n",
       "      <td>6.0899</td>\n",
       "      <td>...</td>\n",
       "      <td>-0.007747</td>\n",
       "      <td>-0.303284</td>\n",
       "      <td>-0.303284</td>\n",
       "      <td>1169.11</td>\n",
       "      <td>229.16</td>\n",
       "      <td>249.9</td>\n",
       "      <td>580.6</td>\n",
       "      <td>-3.096673e+05</td>\n",
       "      <td>1.609438</td>\n",
       "      <td>0.083333</td>\n",
       "    </tr>\n",
       "    <tr>\n",
       "      <th>1</th>\n",
       "      <td>2</td>\n",
       "      <td>3</td>\n",
       "      <td>4</td>\n",
       "      <td>19</td>\n",
       "      <td>16.037434</td>\n",
       "      <td>0.667858</td>\n",
       "      <td>0.0000</td>\n",
       "      <td>9.327914</td>\n",
       "      <td>1</td>\n",
       "      <td>4.2016</td>\n",
       "      <td>...</td>\n",
       "      <td>0.729257</td>\n",
       "      <td>-0.303284</td>\n",
       "      <td>-0.303284</td>\n",
       "      <td>65.89</td>\n",
       "      <td>0.00</td>\n",
       "      <td>0.0</td>\n",
       "      <td>0.0</td>\n",
       "      <td>2.831651e+06</td>\n",
       "      <td>0.847298</td>\n",
       "      <td>0.090909</td>\n",
       "    </tr>\n",
       "  </tbody>\n",
       "</table>\n",
       "<p>2 rows × 61 columns</p>\n",
       "</div>"
      ],
      "text/plain": [
       "   cm_key  mvar2  mvar4  mvar5      mvar6     mvar7   mvar8     mvar9  mvar10  \\\n",
       "0       1      1      4     18  15.657005  0.966519  0.1831  6.748233       1   \n",
       "1       2      3      4     19  16.037434  0.667858  0.0000  9.327914       1   \n",
       "\n",
       "   mvar11    ...        new_1     new_2     new_3    new_4   new_5  new_6  \\\n",
       "0  6.0899    ...    -0.007747 -0.303284 -0.303284  1169.11  229.16  249.9   \n",
       "1  4.2016    ...     0.729257 -0.303284 -0.303284    65.89    0.00    0.0   \n",
       "\n",
       "   new_7         new_8     new_9    new_10  \n",
       "0  580.6 -3.096673e+05  1.609438  0.083333  \n",
       "1    0.0  2.831651e+06  0.847298  0.090909  \n",
       "\n",
       "[2 rows x 61 columns]"
      ]
     },
     "execution_count": 32,
     "metadata": {},
     "output_type": "execute_result"
    }
   ],
   "source": [
    "train.head(2)"
   ]
  },
  {
   "cell_type": "markdown",
   "metadata": {},
   "source": [
    "__ Feature engineering part is over, we'll now move onto applying different machine learning algorithms for predictive model__"
   ]
  },
  {
   "cell_type": "markdown",
   "metadata": {},
   "source": [
    "## Modelling"
   ]
  },
  {
   "cell_type": "markdown",
   "metadata": {},
   "source": [
    "__We'll treat the problem as a classification problem where we have to classify different customers according to which card to offer them first__"
   ]
  },
  {
   "cell_type": "markdown",
   "metadata": {},
   "source": [
    "__For selection of most suitable algorithm and tuning of hyperparameters we'll use stratified shufle split as the data is pretty imbalanced and for scoring_metric we'll use a custom scorer which will put more emphasis on not getting false positives and false negatives__"
   ]
  },
  {
   "cell_type": "code",
   "execution_count": 33,
   "metadata": {
    "collapsed": true
   },
   "outputs": [],
   "source": [
    "## Aggregating features and target\n",
    "features=[i for i in train.columns if i not in ['mvar40','mvar41','mvar42','cm_key','mvar44','mvar45','mvar46','mvar47','mvar48','mvar49','mvar50','mvar51','mvar12','offer']]\n",
    "target=['offer']"
   ]
  },
  {
   "cell_type": "code",
   "execution_count": 34,
   "metadata": {
    "collapsed": true
   },
   "outputs": [],
   "source": [
    "## Creating a custom scorer\n",
    "cost_mat=np.matrix([[0,12,12,12],[12,0,6,6],[12,6,0,6],[12,6,6,0]])\n",
    "def COST(y,ypred):\n",
    "    conf_mat=sklearn.metrics.confusion_matrix(y,ypred)\n",
    "    cost=np.sum(conf_mat*cost_mat)\n",
    "    return cost\n",
    "COST_scorer=sklearn.metrics.make_scorer(COST,greater_is_better=False)"
   ]
  },
  {
   "cell_type": "code",
   "execution_count": 35,
   "metadata": {
    "collapsed": true
   },
   "outputs": [],
   "source": [
    "#Splitting train into training and test set using stratifiedshufflesplit\n",
    "X = train[features].values\n",
    "y = train[target].values\n",
    "stratSplit = StratifiedShuffleSplit(y, 1, test_size=0.20,random_state=42)\n",
    "StratifiedShuffleSplit(y, n_iter=1, test_size=0.25)\n",
    "for train_idx,test_idx in stratSplit:\n",
    "    xtrain=X[train_idx]\n",
    "    ytrain=y[train_idx]\n",
    "    xtest=X[test_idx]\n",
    "    ytest=y[test_idx]"
   ]
  },
  {
   "cell_type": "markdown",
   "metadata": {},
   "source": [
    "__Extra Trees Classifier__"
   ]
  },
  {
   "cell_type": "code",
   "execution_count": 48,
   "metadata": {},
   "outputs": [
    {
     "name": "stdout",
     "output_type": "stream",
     "text": [
      "-230397.6\n"
     ]
    }
   ],
   "source": [
    "clf_1=ExtraTreesClassifier(n_estimators=100,max_depth=6)\n",
    "print np.mean(cross_val_score(clf_1,X=xtrain,y=np.ravel(ytrain),scoring=COST_scorer,cv=5,n_jobs=2))"
   ]
  },
  {
   "cell_type": "markdown",
   "metadata": {},
   "source": [
    "__Random Forest Classifier__"
   ]
  },
  {
   "cell_type": "code",
   "execution_count": 49,
   "metadata": {},
   "outputs": [
    {
     "name": "stdout",
     "output_type": "stream",
     "text": [
      "-230342.4\n"
     ]
    }
   ],
   "source": [
    "clf_2=RandomForestClassifier(n_estimators=100,max_depth=6)\n",
    "print np.mean(cross_val_score(clf_2,X=xtrain,y=np.ravel(ytrain),scoring=COST_scorer,cv=5,n_jobs=2))"
   ]
  },
  {
   "cell_type": "markdown",
   "metadata": {},
   "source": [
    "__XGBoost__"
   ]
  },
  {
   "cell_type": "code",
   "execution_count": 50,
   "metadata": {},
   "outputs": [
    {
     "name": "stdout",
     "output_type": "stream",
     "text": [
      "-229874.4\n"
     ]
    }
   ],
   "source": [
    "clf_3=XGBClassifier(learning_rate=0.1,n_estimators=100,objective='multi:softprob')\n",
    "print np.mean(cross_val_score(clf_3,X=xtrain,y=np.ravel(ytrain),scoring=COST_scorer,cv=5,n_jobs=2))"
   ]
  },
  {
   "cell_type": "markdown",
   "metadata": {},
   "source": [
    "__XGBoost outperforms other two classifiers, let's tune it's hyperparameters for improving it's performance further, we'll keep the learning rate fixed at 0.1__"
   ]
  },
  {
   "cell_type": "code",
   "execution_count": 38,
   "metadata": {},
   "outputs": [
    {
     "name": "stdout",
     "output_type": "stream",
     "text": [
      "{'n_estimators': 120}\n",
      "-229401.60225\n",
      "[mean: -229934.40900, std: 74.90154, params: {'n_estimators': 50}, mean: -229792.79700, std: 79.81579, params: {'n_estimators': 70}, mean: -229579.20525, std: 76.49941, params: {'n_estimators': 100}, mean: -229401.60225, std: 66.77005, params: {'n_estimators': 120}]\n"
     ]
    }
   ],
   "source": [
    "clf_i1=XGBClassifier(objective='multi:softprob',learning_rate=0.1,max_depth=5,min_child_weight=1,colsample_bytree=0.8,scale_pos_weight=1)\n",
    "##Parameter dictionary for tuning\n",
    "param_1={'n_estimators':[50,70,100,120]}\n",
    "gs_1=GridSearchCV(clf_i1,param_1,cv=5,scoring=COST_scorer)\n",
    "gs_1.fit(xtrain,np.ravel(ytrain))\n",
    "print gs_1.best_params_\n",
    "print gs_1.best_score_\n",
    "print gs_1.grid_scores_"
   ]
  },
  {
   "cell_type": "code",
   "execution_count": 39,
   "metadata": {
    "scrolled": true
   },
   "outputs": [
    {
     "name": "stdout",
     "output_type": "stream",
     "text": [
      "{'max_depth': 8, 'min_child_weight': 3}\n",
      "-229099.20075\n",
      "[mean: -229250.40150, std: 112.92759, params: {'max_depth': 6, 'min_child_weight': 1}, mean: -229252.80900, std: 68.13633, params: {'max_depth': 6, 'min_child_weight': 2}, mean: -229235.99250, std: 56.28499, params: {'max_depth': 6, 'min_child_weight': 3}, mean: -229192.79925, std: 88.05089, params: {'max_depth': 7, 'min_child_weight': 1}, mean: -229159.20150, std: 53.45054, params: {'max_depth': 7, 'min_child_weight': 2}, mean: -229197.61125, std: 43.20000, params: {'max_depth': 7, 'min_child_weight': 3}, mean: -229135.18650, std: 91.89211, params: {'max_depth': 8, 'min_child_weight': 1}, mean: -229144.80525, std: 108.02666, params: {'max_depth': 8, 'min_child_weight': 2}, mean: -229099.20075, std: 66.42409, params: {'max_depth': 8, 'min_child_weight': 3}, mean: -229192.80450, std: 78.35917, params: {'max_depth': 9, 'min_child_weight': 1}, mean: -229209.58725, std: 131.32189, params: {'max_depth': 9, 'min_child_weight': 2}, mean: -229116.00975, std: 86.53323, params: {'max_depth': 9, 'min_child_weight': 3}]\n"
     ]
    }
   ],
   "source": [
    "clf_i2=XGBClassifier(objective='multi:softprob',learning_rate=0.1,n_estimators=120,colsample_bytree=0.8,scale_pos_weight=1)\n",
    "param_2={'max_depth':range(6,10,1),'min_child_weight':range(1,4,1)}\n",
    "gs_2=GridSearchCV(clf_i2,param_2,cv=5,scoring=COST_scorer)\n",
    "gs_2.fit(xtrain,np.ravel(ytrain))\n",
    "print gs_2.best_params_\n",
    "print gs_2.best_score_\n",
    "print gs_2.grid_scores_"
   ]
  },
  {
   "cell_type": "markdown",
   "metadata": {},
   "source": [
    "__Let's train this classifier on full-training data and make predictions on test data__"
   ]
  },
  {
   "cell_type": "code",
   "execution_count": 40,
   "metadata": {},
   "outputs": [
    {
     "data": {
      "text/plain": [
       "XGBClassifier(base_score=0.5, colsample_bylevel=1, colsample_bytree=0.8,\n",
       "       gamma=0, learning_rate=0.1, max_delta_step=0, max_depth=8,\n",
       "       min_child_weight=3, missing=None, n_estimators=120, nthread=-1,\n",
       "       objective='multi:softprob', reg_alpha=0, reg_lambda=1,\n",
       "       scale_pos_weight=1, seed=0, silent=True, subsample=1)"
      ]
     },
     "execution_count": 40,
     "metadata": {},
     "output_type": "execute_result"
    }
   ],
   "source": [
    "clf=XGBClassifier(learning_rate=0.1,n_estimators=120,max_depth=8,min_child_weight=3,objective='multi:softprob',colsample_bytree=0.8,scale_pos_weight=1)\n",
    "clf.fit(train[features].values,np.ravel(train[target].values))"
   ]
  },
  {
   "cell_type": "markdown",
   "metadata": {},
   "source": [
    "Let's check out feature importances and whether our engineered features are working well"
   ]
  },
  {
   "cell_type": "code",
   "execution_count": 43,
   "metadata": {
    "scrolled": false
   },
   "outputs": [
    {
     "name": "stdout",
     "output_type": "stream",
     "text": [
      "mvar36 0.0537407\n",
      "mvar11 0.0505465\n",
      "mvar5 0.0475598\n",
      "mvar7 0.0417315\n",
      "mvar6 0.0378736\n",
      "mvar37 0.0365669\n",
      "mvar38 0.0357995\n",
      "new_8 0.0355921\n",
      "mvar39 0.0326468\n",
      "mvar9 0.0297223\n",
      "mvar16 0.0280837\n",
      "mvar24 0.0270881\n",
      "mvar25 0.0268392\n",
      "mvar26 0.0263207\n",
      "mvar27 0.0261133\n",
      "new_10 0.0249103\n",
      "mvar17 0.0234584\n",
      "new_9 0.0234377\n",
      "new_4 0.0233132\n",
      "new_1 0.0224213\n",
      "mvar18 0.0221102\n",
      "mvar20 0.0204094\n",
      "mvar13 0.0196835\n",
      "mvar19 0.0195383\n",
      "new_7 0.0180242\n",
      "new_6 0.0177338\n",
      "new_5 0.0172153\n",
      "mvar8 0.0170701\n",
      "mvar32 0.0162612\n",
      "mvar21 0.0159293\n",
      "mvar22 0.0156389\n",
      "mvar23 0.0146848\n",
      "mvar4 0.0135855\n",
      "mvar35 0.0135648\n",
      "mvar33 0.0119885\n",
      "mvar34 0.0111796\n",
      "mvar2 0.0110966\n",
      "mvar28 0.010661\n",
      "mvar29 0.0100595\n",
      "mvar31 0.00898098\n",
      "new_2 0.00873209\n",
      "mvar10 0.00825503\n",
      "mvar30 0.00771576\n",
      "mvar14 0.0058283\n",
      "mvar15 0.00439715\n",
      "mvar43 0.00371269\n",
      "new_3 0.00217784\n"
     ]
    }
   ],
   "source": [
    "index=np.argsort(clf.feature_importances_)[::-1]\n",
    "importances=clf.feature_importances_\n",
    "for i in index:\n",
    "    print features[i],importances[i]"
   ]
  },
  {
   "cell_type": "markdown",
   "metadata": {},
   "source": [
    "Predictions for test set"
   ]
  },
  {
   "cell_type": "code",
   "execution_count": 47,
   "metadata": {},
   "outputs": [],
   "source": [
    "pred=clf.predict(test[features].values)"
   ]
  },
  {
   "cell_type": "markdown",
   "metadata": {},
   "source": [
    "Let's see the confusion matrix for predicted values of training set"
   ]
  },
  {
   "cell_type": "code",
   "execution_count": 45,
   "metadata": {},
   "outputs": [
    {
     "name": "stdout",
     "output_type": "stream",
     "text": [
      "[[31103     0    11     8]\n",
      " [ 2170  1265     5     7]\n",
      " [ 2187     0   460     7]\n",
      " [ 1811     0     6   960]]\n"
     ]
    }
   ],
   "source": [
    "conf_mat=sklearn.metrics.confusion_matrix(np.ravel(train[target].values),clf.predict(train[features].values))\n",
    "print conf_mat"
   ]
  },
  {
   "cell_type": "markdown",
   "metadata": {},
   "source": [
    "__Our classifier is doing quite fine as is visible from confusion matrix, but this is not a classifiaction problem we have to call our customers in a sorted way( i.e. calling most liable to buy a card first). We solve this problem using predictproba() method of XGBoost classifier__"
   ]
  },
  {
   "cell_type": "code",
   "execution_count": 48,
   "metadata": {
    "collapsed": true
   },
   "outputs": [],
   "source": [
    "prob=clf.predict_proba(test[features].values)\n",
    "prob=pd.DataFrame(prob)"
   ]
  },
  {
   "cell_type": "code",
   "execution_count": 65,
   "metadata": {},
   "outputs": [
    {
     "data": {
      "text/plain": [
       "9000"
      ]
     },
     "execution_count": 65,
     "metadata": {},
     "output_type": "execute_result"
    }
   ],
   "source": [
    "np.sum(prob[0]>0.6186)"
   ]
  },
  {
   "cell_type": "code",
   "execution_count": 66,
   "metadata": {
    "collapsed": true
   },
   "outputs": [],
   "source": [
    "def proba(a,b,c,d):\n",
    "    m=max(b,c,d)\n",
    "    if a>0.6186:\n",
    "        return a\n",
    "    else:\n",
    "        return m\n",
    "    \n",
    "def card(a,b,c,d):\n",
    "    m=max(b,c,d)\n",
    "    \n",
    "    if a>0.6186:\n",
    "        return 'None'\n",
    "    else:\n",
    "        if m==b:\n",
    "            return 'Supp'\n",
    "        if m==c:\n",
    "            return 'Elite'\n",
    "        if m==d:\n",
    "            return 'Credit'        "
   ]
  },
  {
   "cell_type": "code",
   "execution_count": 67,
   "metadata": {
    "collapsed": true
   },
   "outputs": [],
   "source": [
    "prob['pr']=prob.apply(lambda row: proba(row[0],row[1],row[2],row[3]),axis=1)\n",
    "prob['card']=prob.apply(lambda row: card(row[0],row[1],row[2],row[4]),axis=1)"
   ]
  },
  {
   "cell_type": "code",
   "execution_count": 72,
   "metadata": {
    "collapsed": true
   },
   "outputs": [],
   "source": [
    "prob.drop([0,1,2,3],axis=1,inplace=True)\n",
    "prob.drop(prob[prob.card=='None'].index,axis=0,inplace=True)\n",
    "prob=prob.sort_values(by='pr',ascending=False)"
   ]
  },
  {
   "cell_type": "code",
   "execution_count": 73,
   "metadata": {},
   "outputs": [
    {
     "data": {
      "text/html": [
       "<div>\n",
       "<style>\n",
       "    .dataframe thead tr:only-child th {\n",
       "        text-align: right;\n",
       "    }\n",
       "\n",
       "    .dataframe thead th {\n",
       "        text-align: left;\n",
       "    }\n",
       "\n",
       "    .dataframe tbody tr th {\n",
       "        vertical-align: top;\n",
       "    }\n",
       "</style>\n",
       "<table border=\"1\" class=\"dataframe\">\n",
       "  <thead>\n",
       "    <tr style=\"text-align: right;\">\n",
       "      <th></th>\n",
       "      <th>card</th>\n",
       "      <th>key</th>\n",
       "    </tr>\n",
       "  </thead>\n",
       "  <tbody>\n",
       "    <tr>\n",
       "      <th>9688</th>\n",
       "      <td>Elite</td>\n",
       "      <td>59689</td>\n",
       "    </tr>\n",
       "    <tr>\n",
       "      <th>8681</th>\n",
       "      <td>Elite</td>\n",
       "      <td>58682</td>\n",
       "    </tr>\n",
       "    <tr>\n",
       "      <th>7338</th>\n",
       "      <td>Supp</td>\n",
       "      <td>57339</td>\n",
       "    </tr>\n",
       "    <tr>\n",
       "      <th>2963</th>\n",
       "      <td>Elite</td>\n",
       "      <td>52964</td>\n",
       "    </tr>\n",
       "    <tr>\n",
       "      <th>4699</th>\n",
       "      <td>Supp</td>\n",
       "      <td>54700</td>\n",
       "    </tr>\n",
       "  </tbody>\n",
       "</table>\n",
       "</div>"
      ],
      "text/plain": [
       "       card    key\n",
       "9688  Elite  59689\n",
       "8681  Elite  58682\n",
       "7338   Supp  57339\n",
       "2963  Elite  52964\n",
       "4699   Supp  54700"
      ]
     },
     "execution_count": 73,
     "metadata": {},
     "output_type": "execute_result"
    }
   ],
   "source": [
    "subm=pd.read_csv('Leaderboard_Dataset.csv')\n",
    "prob['key']=subm['cm_key']\n",
    "prob.drop('pr',axis=1,inplace=True)\n",
    "prob.head()"
   ]
  },
  {
   "cell_type": "code",
   "execution_count": 74,
   "metadata": {
    "collapsed": true
   },
   "outputs": [],
   "source": [
    "prob.to_csv('Submission.csv')"
   ]
  },
  {
   "cell_type": "code",
   "execution_count": null,
   "metadata": {
    "collapsed": true
   },
   "outputs": [],
   "source": []
  }
 ],
 "metadata": {
  "kernelspec": {
   "display_name": "Python 2",
   "language": "python",
   "name": "python2"
  },
  "language_info": {
   "codemirror_mode": {
    "name": "ipython",
    "version": 2
   },
   "file_extension": ".py",
   "mimetype": "text/x-python",
   "name": "python",
   "nbconvert_exporter": "python",
   "pygments_lexer": "ipython2",
   "version": "2.7.13"
  }
 },
 "nbformat": 4,
 "nbformat_minor": 2
}
